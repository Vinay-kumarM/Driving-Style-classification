{
 "cells": [
  {
   "cell_type": "code",
   "execution_count": 1,
   "metadata": {},
   "outputs": [],
   "source": [
    "import warnings\n",
    "warnings.filterwarnings('ignore')"
   ]
  },
  {
   "cell_type": "code",
   "execution_count": 2,
   "metadata": {},
   "outputs": [],
   "source": [
    "#importing require python classes and packages\n",
    "import numpy as np\n",
    "import pandas as pd\n",
    "from sklearn.preprocessing import LabelEncoder\n",
    "from sklearn.metrics import accuracy_score\n",
    "from sklearn.preprocessing import StandardScaler, MinMaxScaler\n",
    "from sklearn.model_selection import train_test_split\n",
    "from tensorflow.keras.models import Sequential, load_model\n",
    "from tensorflow.keras.layers import Dense, TimeDistributed, Conv1D, MaxPooling1D, Flatten, Activation, RepeatVector\n",
    "from tensorflow.keras.layers import LSTM #class for LSTM training\n",
    "import os\n",
    "from tensorflow.keras.layers import Dropout\n",
    "from tensorflow.keras.callbacks import ModelCheckpoint\n",
    "from tensorflow.keras.layers import Bidirectional #class for bidirectional LSTM as BILSTM to implement as extension\n",
    "from tensorflow.keras.utils import to_categorical\n",
    "import seaborn as sns\n",
    "from sklearn.metrics import precision_score\n",
    "from sklearn.metrics import recall_score\n",
    "from sklearn.metrics import f1_score\n",
    "from sklearn.metrics import confusion_matrix\n",
    "import matplotlib.pyplot as plt\n",
    "import pickle"
   ]
  },
  {
   "cell_type": "code",
   "execution_count": 3,
   "metadata": {},
   "outputs": [],
   "source": [
    "#use to scale or normalize dataset values\n",
    "normalizer = StandardScaler()"
   ]
  },
  {
   "cell_type": "code",
   "execution_count": 30,
   "metadata": {},
   "outputs": [
    {
     "data": {
      "text/html": [
       "<div>\n",
       "<style scoped>\n",
       "    .dataframe tbody tr th:only-of-type {\n",
       "        vertical-align: middle;\n",
       "    }\n",
       "\n",
       "    .dataframe tbody tr th {\n",
       "        vertical-align: top;\n",
       "    }\n",
       "\n",
       "    .dataframe thead th {\n",
       "        text-align: right;\n",
       "    }\n",
       "</style>\n",
       "<table border=\"1\" class=\"dataframe\">\n",
       "  <thead>\n",
       "    <tr style=\"text-align: right;\">\n",
       "      <th></th>\n",
       "      <th>angle</th>\n",
       "      <th>angle_speed</th>\n",
       "      <th>AccZ</th>\n",
       "      <th>brake</th>\n",
       "      <th>GyroY</th>\n",
       "      <th>GyroZ</th>\n",
       "      <th>Class</th>\n",
       "      <th>Timestamp</th>\n",
       "    </tr>\n",
       "  </thead>\n",
       "  <tbody>\n",
       "    <tr>\n",
       "      <th>0</th>\n",
       "      <td>0.000000</td>\n",
       "      <td>0.000000</td>\n",
       "      <td>0.000000</td>\n",
       "      <td>0.059407</td>\n",
       "      <td>-0.174707</td>\n",
       "      <td>0.101938</td>\n",
       "      <td>NORMAL</td>\n",
       "      <td>3581629</td>\n",
       "    </tr>\n",
       "    <tr>\n",
       "      <th>1</th>\n",
       "      <td>-1.624864</td>\n",
       "      <td>-1.082492</td>\n",
       "      <td>-0.204183</td>\n",
       "      <td>-0.028558</td>\n",
       "      <td>0.051313</td>\n",
       "      <td>0.135536</td>\n",
       "      <td>NORMAL</td>\n",
       "      <td>3581630</td>\n",
       "    </tr>\n",
       "    <tr>\n",
       "      <th>2</th>\n",
       "      <td>-0.594660</td>\n",
       "      <td>-0.122410</td>\n",
       "      <td>0.220502</td>\n",
       "      <td>-0.019395</td>\n",
       "      <td>-0.029322</td>\n",
       "      <td>0.087888</td>\n",
       "      <td>NORMAL</td>\n",
       "      <td>3581630</td>\n",
       "    </tr>\n",
       "    <tr>\n",
       "      <th>3</th>\n",
       "      <td>0.738478</td>\n",
       "      <td>-0.228456</td>\n",
       "      <td>0.667732</td>\n",
       "      <td>0.069791</td>\n",
       "      <td>-0.029932</td>\n",
       "      <td>0.054902</td>\n",
       "      <td>NORMAL</td>\n",
       "      <td>3581631</td>\n",
       "    </tr>\n",
       "    <tr>\n",
       "      <th>4</th>\n",
       "      <td>0.101741</td>\n",
       "      <td>0.777568</td>\n",
       "      <td>-0.066730</td>\n",
       "      <td>0.030696</td>\n",
       "      <td>-0.003665</td>\n",
       "      <td>0.054902</td>\n",
       "      <td>NORMAL</td>\n",
       "      <td>3581631</td>\n",
       "    </tr>\n",
       "    <tr>\n",
       "      <th>...</th>\n",
       "      <td>...</td>\n",
       "      <td>...</td>\n",
       "      <td>...</td>\n",
       "      <td>...</td>\n",
       "      <td>...</td>\n",
       "      <td>...</td>\n",
       "      <td>...</td>\n",
       "      <td>...</td>\n",
       "    </tr>\n",
       "    <tr>\n",
       "      <th>3639</th>\n",
       "      <td>0.915688</td>\n",
       "      <td>-2.017489</td>\n",
       "      <td>1.687505</td>\n",
       "      <td>0.450360</td>\n",
       "      <td>0.384845</td>\n",
       "      <td>-1.236468</td>\n",
       "      <td>CONSERVATIVE</td>\n",
       "      <td>3583789</td>\n",
       "    </tr>\n",
       "    <tr>\n",
       "      <th>3640</th>\n",
       "      <td>-1.934203</td>\n",
       "      <td>0.914925</td>\n",
       "      <td>-0.096013</td>\n",
       "      <td>0.321468</td>\n",
       "      <td>0.649350</td>\n",
       "      <td>-0.477162</td>\n",
       "      <td>CONSERVATIVE</td>\n",
       "      <td>3583790</td>\n",
       "    </tr>\n",
       "    <tr>\n",
       "      <th>3641</th>\n",
       "      <td>-0.222845</td>\n",
       "      <td>0.747304</td>\n",
       "      <td>-0.887430</td>\n",
       "      <td>0.361174</td>\n",
       "      <td>-0.406836</td>\n",
       "      <td>0.054291</td>\n",
       "      <td>CONSERVATIVE</td>\n",
       "      <td>3583790</td>\n",
       "    </tr>\n",
       "    <tr>\n",
       "      <th>3642</th>\n",
       "      <td>-0.349423</td>\n",
       "      <td>0.067261</td>\n",
       "      <td>0.394368</td>\n",
       "      <td>-0.132405</td>\n",
       "      <td>0.020159</td>\n",
       "      <td>-0.004963</td>\n",
       "      <td>CONSERVATIVE</td>\n",
       "      <td>3583791</td>\n",
       "    </tr>\n",
       "    <tr>\n",
       "      <th>3643</th>\n",
       "      <td>-0.402428</td>\n",
       "      <td>0.406218</td>\n",
       "      <td>-0.423009</td>\n",
       "      <td>-0.053603</td>\n",
       "      <td>-0.006720</td>\n",
       "      <td>0.001145</td>\n",
       "      <td>CONSERVATIVE</td>\n",
       "      <td>3583791</td>\n",
       "    </tr>\n",
       "  </tbody>\n",
       "</table>\n",
       "<p>3644 rows × 8 columns</p>\n",
       "</div>"
      ],
      "text/plain": [
       "         angle  angle_speed      AccZ     brake     GyroY     GyroZ  \\\n",
       "0     0.000000     0.000000  0.000000  0.059407 -0.174707  0.101938   \n",
       "1    -1.624864    -1.082492 -0.204183 -0.028558  0.051313  0.135536   \n",
       "2    -0.594660    -0.122410  0.220502 -0.019395 -0.029322  0.087888   \n",
       "3     0.738478    -0.228456  0.667732  0.069791 -0.029932  0.054902   \n",
       "4     0.101741     0.777568 -0.066730  0.030696 -0.003665  0.054902   \n",
       "...        ...          ...       ...       ...       ...       ...   \n",
       "3639  0.915688    -2.017489  1.687505  0.450360  0.384845 -1.236468   \n",
       "3640 -1.934203     0.914925 -0.096013  0.321468  0.649350 -0.477162   \n",
       "3641 -0.222845     0.747304 -0.887430  0.361174 -0.406836  0.054291   \n",
       "3642 -0.349423     0.067261  0.394368 -0.132405  0.020159 -0.004963   \n",
       "3643 -0.402428     0.406218 -0.423009 -0.053603 -0.006720  0.001145   \n",
       "\n",
       "             Class  Timestamp  \n",
       "0           NORMAL    3581629  \n",
       "1           NORMAL    3581630  \n",
       "2           NORMAL    3581630  \n",
       "3           NORMAL    3581631  \n",
       "4           NORMAL    3581631  \n",
       "...            ...        ...  \n",
       "3639  CONSERVATIVE    3583789  \n",
       "3640  CONSERVATIVE    3583790  \n",
       "3641  CONSERVATIVE    3583790  \n",
       "3642  CONSERVATIVE    3583791  \n",
       "3643  CONSERVATIVE    3583791  \n",
       "\n",
       "[3644 rows x 8 columns]"
      ]
     },
     "execution_count": 30,
     "metadata": {},
     "output_type": "execute_result"
    }
   ],
   "source": [
    "#load and display dataset values\n",
    "dataset = pd.read_csv(\"Dataset/Driving_Style.csv\")\n",
    "dataset.fillna(0, inplace = True)\n",
    "dataset"
   ]
  },
  {
   "cell_type": "code",
   "execution_count": 31,
   "metadata": {},
   "outputs": [
    {
     "data": {
      "image/png": "[encoded data removed]",
      "text/plain": [
       "<Figure size 432x288 with 1 Axes>"
      ]
     },
     "metadata": {
      "needs_background": "light"
     },
     "output_type": "display_data"
    }
   ],
   "source": [
    "#plot labels in dataset\n",
    "labels, count = np.unique(dataset['Class'], return_counts = True)\n",
    "height = count\n",
    "bars = labels\n",
    "y_pos = np.arange(len(bars))\n",
    "plt.bar(y_pos, height)\n",
    "plt.xticks(y_pos, bars)\n",
    "plt.xlabel(\"Dataset Class Label Graph\")\n",
    "plt.ylabel(\"Count\")\n",
    "plt.show()"
   ]
  },
  {
   "cell_type": "code",
   "execution_count": 32,
   "metadata": {},
   "outputs": [
    {
     "data": {
      "text/html": [
       "<div>\n",
       "<style scoped>\n",
       "    .dataframe tbody tr th:only-of-type {\n",
       "        vertical-align: middle;\n",
       "    }\n",
       "\n",
       "    .dataframe tbody tr th {\n",
       "        vertical-align: top;\n",
       "    }\n",
       "\n",
       "    .dataframe thead th {\n",
       "        text-align: right;\n",
       "    }\n",
       "</style>\n",
       "<table border=\"1\" class=\"dataframe\">\n",
       "  <thead>\n",
       "    <tr style=\"text-align: right;\">\n",
       "      <th></th>\n",
       "      <th>angle</th>\n",
       "      <th>angle_speed</th>\n",
       "      <th>AccZ</th>\n",
       "      <th>brake</th>\n",
       "      <th>GyroY</th>\n",
       "      <th>GyroZ</th>\n",
       "      <th>Class</th>\n",
       "      <th>Timestamp</th>\n",
       "    </tr>\n",
       "  </thead>\n",
       "  <tbody>\n",
       "    <tr>\n",
       "      <th>0</th>\n",
       "      <td>0.000000</td>\n",
       "      <td>0.000000</td>\n",
       "      <td>0.000000</td>\n",
       "      <td>0.059407</td>\n",
       "      <td>-0.174707</td>\n",
       "      <td>0.101938</td>\n",
       "      <td>2</td>\n",
       "      <td>3581629</td>\n",
       "    </tr>\n",
       "    <tr>\n",
       "      <th>1</th>\n",
       "      <td>-1.624864</td>\n",
       "      <td>-1.082492</td>\n",
       "      <td>-0.204183</td>\n",
       "      <td>-0.028558</td>\n",
       "      <td>0.051313</td>\n",
       "      <td>0.135536</td>\n",
       "      <td>2</td>\n",
       "      <td>3581630</td>\n",
       "    </tr>\n",
       "    <tr>\n",
       "      <th>2</th>\n",
       "      <td>-0.594660</td>\n",
       "      <td>-0.122410</td>\n",
       "      <td>0.220502</td>\n",
       "      <td>-0.019395</td>\n",
       "      <td>-0.029322</td>\n",
       "      <td>0.087888</td>\n",
       "      <td>2</td>\n",
       "      <td>3581630</td>\n",
       "    </tr>\n",
       "    <tr>\n",
       "      <th>3</th>\n",
       "      <td>0.738478</td>\n",
       "      <td>-0.228456</td>\n",
       "      <td>0.667732</td>\n",
       "      <td>0.069791</td>\n",
       "      <td>-0.029932</td>\n",
       "      <td>0.054902</td>\n",
       "      <td>2</td>\n",
       "      <td>3581631</td>\n",
       "    </tr>\n",
       "    <tr>\n",
       "      <th>4</th>\n",
       "      <td>0.101741</td>\n",
       "      <td>0.777568</td>\n",
       "      <td>-0.066730</td>\n",
       "      <td>0.030696</td>\n",
       "      <td>-0.003665</td>\n",
       "      <td>0.054902</td>\n",
       "      <td>2</td>\n",
       "      <td>3581631</td>\n",
       "    </tr>\n",
       "    <tr>\n",
       "      <th>...</th>\n",
       "      <td>...</td>\n",
       "      <td>...</td>\n",
       "      <td>...</td>\n",
       "      <td>...</td>\n",
       "      <td>...</td>\n",
       "      <td>...</td>\n",
       "      <td>...</td>\n",
       "      <td>...</td>\n",
       "    </tr>\n",
       "    <tr>\n",
       "      <th>3639</th>\n",
       "      <td>0.915688</td>\n",
       "      <td>-2.017489</td>\n",
       "      <td>1.687505</td>\n",
       "      <td>0.450360</td>\n",
       "      <td>0.384845</td>\n",
       "      <td>-1.236468</td>\n",
       "      <td>1</td>\n",
       "      <td>3583789</td>\n",
       "    </tr>\n",
       "    <tr>\n",
       "      <th>3640</th>\n",
       "      <td>-1.934203</td>\n",
       "      <td>0.914925</td>\n",
       "      <td>-0.096013</td>\n",
       "      <td>0.321468</td>\n",
       "      <td>0.649350</td>\n",
       "      <td>-0.477162</td>\n",
       "      <td>1</td>\n",
       "      <td>3583790</td>\n",
       "    </tr>\n",
       "    <tr>\n",
       "      <th>3641</th>\n",
       "      <td>-0.222845</td>\n",
       "      <td>0.747304</td>\n",
       "      <td>-0.887430</td>\n",
       "      <td>0.361174</td>\n",
       "      <td>-0.406836</td>\n",
       "      <td>0.054291</td>\n",
       "      <td>1</td>\n",
       "      <td>3583790</td>\n",
       "    </tr>\n",
       "    <tr>\n",
       "      <th>3642</th>\n",
       "      <td>-0.349423</td>\n",
       "      <td>0.067261</td>\n",
       "      <td>0.394368</td>\n",
       "      <td>-0.132405</td>\n",
       "      <td>0.020159</td>\n",
       "      <td>-0.004963</td>\n",
       "      <td>1</td>\n",
       "      <td>3583791</td>\n",
       "    </tr>\n",
       "    <tr>\n",
       "      <th>3643</th>\n",
       "      <td>-0.402428</td>\n",
       "      <td>0.406218</td>\n",
       "      <td>-0.423009</td>\n",
       "      <td>-0.053603</td>\n",
       "      <td>-0.006720</td>\n",
       "      <td>0.001145</td>\n",
       "      <td>1</td>\n",
       "      <td>3583791</td>\n",
       "    </tr>\n",
       "  </tbody>\n",
       "</table>\n",
       "<p>3644 rows × 8 columns</p>\n",
       "</div>"
      ],
      "text/plain": [
       "         angle  angle_speed      AccZ     brake     GyroY     GyroZ  Class  \\\n",
       "0     0.000000     0.000000  0.000000  0.059407 -0.174707  0.101938      2   \n",
       "1    -1.624864    -1.082492 -0.204183 -0.028558  0.051313  0.135536      2   \n",
       "2    -0.594660    -0.122410  0.220502 -0.019395 -0.029322  0.087888      2   \n",
       "3     0.738478    -0.228456  0.667732  0.069791 -0.029932  0.054902      2   \n",
       "4     0.101741     0.777568 -0.066730  0.030696 -0.003665  0.054902      2   \n",
       "...        ...          ...       ...       ...       ...       ...    ...   \n",
       "3639  0.915688    -2.017489  1.687505  0.450360  0.384845 -1.236468      1   \n",
       "3640 -1.934203     0.914925 -0.096013  0.321468  0.649350 -0.477162      1   \n",
       "3641 -0.222845     0.747304 -0.887430  0.361174 -0.406836  0.054291      1   \n",
       "3642 -0.349423     0.067261  0.394368 -0.132405  0.020159 -0.004963      1   \n",
       "3643 -0.402428     0.406218 -0.423009 -0.053603 -0.006720  0.001145      1   \n",
       "\n",
       "      Timestamp  \n",
       "0       3581629  \n",
       "1       3581630  \n",
       "2       3581630  \n",
       "3       3581631  \n",
       "4       3581631  \n",
       "...         ...  \n",
       "3639    3583789  \n",
       "3640    3583790  \n",
       "3641    3583790  \n",
       "3642    3583791  \n",
       "3643    3583791  \n",
       "\n",
       "[3644 rows x 8 columns]"
      ]
     },
     "execution_count": 32,
     "metadata": {},
     "output_type": "execute_result"
    }
   ],
   "source": [
    "#convert non numeric class label to numeric data using label encoder class\n",
    "le = LabelEncoder()\n",
    "dataset['Class'] = pd.Series(le.fit_transform(dataset['Class'].astype(str)))\n",
    "#now display class label with numeric id\n",
    "dataset"
   ]
  },
  {
   "cell_type": "code",
   "execution_count": 33,
   "metadata": {},
   "outputs": [
    {
     "data": {
      "text/plain": [
       "Index(['angle', 'angle_speed', 'AccZ', 'brake', 'GyroY', 'GyroZ', 'Class',\n",
       "       'Timestamp'],\n",
       "      dtype='object')"
      ]
     },
     "execution_count": 33,
     "metadata": {},
     "output_type": "execute_result"
    }
   ],
   "source": [
    "dataset.columns"
   ]
  },
  {
   "cell_type": "code",
   "execution_count": 34,
   "metadata": {},
   "outputs": [],
   "source": [
    "#now extract X training features and Y class labels from dataset For Voting Classifier\n",
    "Y1 = dataset['Class']\n",
    "\n",
    "X1 = dataset[['angle', 'angle_speed', 'AccZ', 'brake', 'GyroY', 'GyroZ', 'Timestamp']]"
   ]
  },
  {
   "cell_type": "code",
   "execution_count": 7,
   "metadata": {},
   "outputs": [
    {
     "name": "stdout",
     "output_type": "stream",
     "text": [
      "Normalized Dataset Values\n",
      "[[-0.04106156  0.08127915 -0.00839798 ... -1.37441784  0.8125563\n",
      "  -1.67859727]\n",
      " [-1.68980215 -1.11711676 -0.21570562 ...  0.41672656  1.10301486\n",
      "  -1.67703978]\n",
      " [-0.64445974 -0.05423733  0.21547871 ... -0.22227632  0.69109187\n",
      "  -1.67703978]\n",
      " ...\n",
      " [-0.26718077  0.90859762 -0.9094098  ... -3.21397144  0.40063334\n",
      "   1.68713268]\n",
      " [-0.39561936  0.15574161  0.39200552 ...  0.16983909 -0.11162986\n",
      "   1.68869016]\n",
      " [-0.44940287  0.53099161 -0.43788106 ... -0.04316186 -0.05881923\n",
      "   1.68869016]]\n"
     ]
    }
   ],
   "source": [
    "#now extract X training features and Y class labels from dataset\n",
    "Y = dataset['Class'].ravel()\n",
    "dataset.drop('Class', axis=1, inplace=True)\n",
    "X = dataset.values\n",
    "#normalize dataset values for preprocessing\n",
    "normalizer = StandardScaler()\n",
    "X = normalizer.fit_transform(X)\n",
    "print(\"Normalized Dataset Values\")\n",
    "print(X)\n",
    "#shuffle dataset values\n",
    "indices = np.arange(X.shape[0])\n",
    "np.random.shuffle(indices)\n",
    "X = X[indices]\n",
    "Y = Y[indices]\n",
    "Y = to_categorical(Y)\n",
    "X = np.reshape(X, (X.shape[0], X.shape[1], 1))"
   ]
  },
  {
   "cell_type": "code",
   "execution_count": 8,
   "metadata": {},
   "outputs": [
    {
     "name": "stdout",
     "output_type": "stream",
     "text": [
      "\n",
      "Dataset train & test split as 80% dataset for training and 20% for testing\n",
      "Training Size (80%): 2915\n",
      "Testing Size (20%): 729\n",
      "\n"
     ]
    }
   ],
   "source": [
    "#split dataset into train and test where 80% dataset is for training and 20 for testing\n",
    "X_train, X_test, y_train, y_test = train_test_split(X, Y, test_size=0.2) #split dataset into train and test\n",
    "print()\n",
    "print(\"Dataset train & test split as 80% dataset for training and 20% for testing\")\n",
    "print(\"Training Size (80%): \"+str(X_train.shape[0])) #print training and test size\n",
    "print(\"Testing Size (20%): \"+str(X_test.shape[0]))\n",
    "print()"
   ]
  },
  {
   "cell_type": "code",
   "execution_count": 9,
   "metadata": {},
   "outputs": [],
   "source": [
    "#define global variables to calculate and store accuracy and other metrics\n",
    "precision = []\n",
    "recall = []\n",
    "fscore = []\n",
    "accuracy = []\n",
    "\n",
    "ML_Model = []\n",
    "acc = []\n",
    "prec = []\n",
    "rec = []\n",
    "f1 = []\n",
    "\n",
    "#function to call for storing the results\n",
    "def storeResults(model, a,b,c,d):\n",
    "    ML_Model.append(model)\n",
    "    acc.append(round(a, 3))\n",
    "    prec.append(round(b, 3))\n",
    "    rec.append(round(c, 3))\n",
    "    f1.append(round(d, 3))"
   ]
  },
  {
   "cell_type": "code",
   "execution_count": 10,
   "metadata": {},
   "outputs": [],
   "source": [
    "#function to calculate various metrics such as accuracy, precision etc\n",
    "def calculateMetrics(algorithm, predict, testY):\n",
    "    p = precision_score(testY, predict,average='macro') * 100\n",
    "    r = recall_score(testY, predict,average='macro') * 100\n",
    "    f = f1_score(testY, predict,average='macro') * 100\n",
    "    a = accuracy_score(testY,predict)*100     \n",
    "    print()\n",
    "    print(algorithm+' Accuracy  : '+str(a))\n",
    "    print(algorithm+' Precision   : '+str(p))\n",
    "    print(algorithm+' Recall      : '+str(r))\n",
    "    print(algorithm+' FMeasure    : '+str(f))    \n",
    "    accuracy.append(a)\n",
    "    precision.append(p)\n",
    "    recall.append(r)\n",
    "    fscore.append(f)\n",
    "    conf_matrix = confusion_matrix(testY, predict) \n",
    "    plt.figure(figsize =(5, 5)) \n",
    "    ax = sns.heatmap(conf_matrix, xticklabels = labels, yticklabels = labels, annot = True, cmap=\"viridis\" ,fmt =\"g\");\n",
    "    ax.set_ylim([0,len(labels)])\n",
    "    plt.title(algorithm+\" Confusion matrix\") \n",
    "    plt.ylabel('True class') \n",
    "    plt.xlabel('Predicted class') \n",
    "    plt.show()"
   ]
  },
  {
   "cell_type": "markdown",
   "metadata": {},
   "source": [
    "# CNN"
   ]
  },
  {
   "cell_type": "code",
   "execution_count": 11,
   "metadata": {},
   "outputs": [
    {
     "name": "stdout",
     "output_type": "stream",
     "text": [
      "\n",
      "CNN Accuracy  : 97.80521262002743\n",
      "CNN Precision   : 97.70546837251318\n",
      "CNN Recall      : 97.83478067715411\n",
      "CNN FMeasure    : 97.75827199316157\n"
     ]
    },
    {
     "data": {
      "image/png": "[encoded data removed]",
      "text/plain": [
       "<Figure size 360x360 with 2 Axes>"
      ]
     },
     "metadata": {
      "needs_background": "light"
     },
     "output_type": "display_data"
    }
   ],
   "source": [
    "#now train CNN algorithm using two layers CNN and 1 layer maxpooling\n",
    "cnn_model = Sequential()\n",
    "#cnn first layer to filter dataset features\n",
    "cnn_model.add(Conv1D(filters=4, kernel_size = 2, activation = 'relu', input_shape = (X_train.shape[1], X_train.shape[2])))\n",
    "#cnn second layer\n",
    "cnn_model.add(Conv1D(filters=3, kernel_size = 2, activation = 'relu'))\n",
    "#max pool layer to collect relevant features\n",
    "cnn_model.add(MaxPooling1D(pool_size = 1))\n",
    "cnn_model.add(Flatten())\n",
    "#output layer for Y target prediction\n",
    "cnn_model.add(Dense(units = 16, activation = 'softmax'))\n",
    "cnn_model.add(Dense(units = y_train.shape[1], activation = 'softmax'))\n",
    "#compile and train model\n",
    "cnn_model.compile(optimizer = 'adam', loss = 'categorical_crossentropy', metrics = ['accuracy'])\n",
    "if os.path.exists(\"model/cnn_weights.hdf5\") == False:\n",
    "    model_check_point = ModelCheckpoint(filepath='model/cnn_weights.hdf5', verbose = 1, save_best_only = True)\n",
    "    hist = cnn_model.fit(X_train, y_train, batch_size = 8, epochs = 10, validation_data=(X_test, y_test), callbacks=[model_check_point], verbose=1)\n",
    "    f = open('model/cnn_history.pckl', 'wb')\n",
    "    pickle.dump(hist.history, f)\n",
    "    f.close()    \n",
    "else:\n",
    "    cnn_model = load_model(\"model/cnn_weights.hdf5\")\n",
    "#perform prediction on test data using CNN model   \n",
    "predict = cnn_model.predict(X_test)\n",
    "predict = np.argmax(predict, axis=1)\n",
    "y_test1 = np.argmax(y_test, axis=1)\n",
    "calculateMetrics(\"CNN\", predict, y_test1)"
   ]
  },
  {
   "cell_type": "code",
   "execution_count": 12,
   "metadata": {},
   "outputs": [],
   "source": [
    "val_acc = (accuracy_score(predict, y_test1))\n",
    "val_prec = precision_score(predict, y_test1,average='weighted')\n",
    "val_rec = recall_score(predict, y_test1,average='weighted')\n",
    "val_f1 = f1_score(predict, y_test1,average='weighted')\n",
    "\n",
    "storeResults('CNN',val_acc,val_prec,val_rec,val_f1)"
   ]
  },
  {
   "cell_type": "markdown",
   "metadata": {},
   "source": [
    "# Propose CNN + LSTM"
   ]
  },
  {
   "cell_type": "code",
   "execution_count": 13,
   "metadata": {},
   "outputs": [
    {
     "name": "stdout",
     "output_type": "stream",
     "text": [
      "WARNING:tensorflow:Layer lstm will not use cuDNN kernels since it doesn't meet the criteria. It will use a generic GPU kernel as fallback when running on GPU.\n",
      "WARNING:tensorflow:Layer lstm_1 will not use cuDNN kernels since it doesn't meet the criteria. It will use a generic GPU kernel as fallback when running on GPU.\n",
      "\n",
      "Propose CNN + LSTM Accuracy  : 97.94238683127571\n",
      "Propose CNN + LSTM Precision   : 97.86324786324786\n",
      "Propose CNN + LSTM Recall      : 98.11320754716982\n",
      "Propose CNN + LSTM FMeasure    : 97.92537345421034\n"
     ]
    },
    {
     "data": {
      "image/png": "[encoded data removed]",
      "text/plain": [
       "<Figure size 360x360 with 2 Axes>"
      ]
     },
     "metadata": {
      "needs_background": "light"
     },
     "output_type": "display_data"
    }
   ],
   "source": [
    "#now define CNN + LSTM model where CNN is used to extarct temporal fetaures and LSTM will perform classification\n",
    "#on trained temporal features\n",
    "cnn_lstm_model = Sequential()\n",
    "#CNN first layers\n",
    "cnn_lstm_model.add(Conv1D(filters=24, kernel_size = 4, activation = 'relu', input_shape = (X_train.shape[1], X_train.shape[2])))\n",
    "cnn_lstm_model.add(Conv1D(filters=16, kernel_size = 4, activation = 'relu'))\n",
    "#max pool layer to collect optimized features from above CONV layer\n",
    "cnn_lstm_model.add(MaxPooling1D(pool_size = 1))\n",
    "cnn_lstm_model.add(Flatten())\n",
    "cnn_lstm_model.add(RepeatVector(2))\n",
    "#adding LSTM layer for classification using extarcted temporal features\n",
    "cnn_lstm_model.add(LSTM(32, activation = 'relu'))\n",
    "cnn_lstm_model.add(Dense(units = 50, activation = 'softmax'))\n",
    "#define output layer\n",
    "cnn_lstm_model.add(Dense(units = y_train.shape[1], activation = 'softmax'))\n",
    "#compile and train model\n",
    "cnn_lstm_model.compile(optimizer = 'adam', loss = 'categorical_crossentropy', metrics = ['accuracy'])\n",
    "if os.path.exists(\"model/cnn_lstm_weights.hdf5\") == False:\n",
    "    model_check_point = ModelCheckpoint(filepath='model/cnn_lstm_weights.hdf5', verbose = 1, save_best_only = True)\n",
    "    hist = cnn_lstm_model.fit(X_train, y_train, batch_size = 8, epochs = 10, validation_data=(X_test, y_test), callbacks=[model_check_point], verbose=1)\n",
    "    f = open('model/cnn_lstm_history.pckl', 'wb')\n",
    "    pickle.dump(hist.history, f)\n",
    "    f.close()    \n",
    "else:\n",
    "    cnn_lstm_model = load_model(\"model/cnn_lstm_weights.hdf5\")\n",
    "#perform prediction on test data using CNN +LSTM propose model   \n",
    "predict = cnn_lstm_model.predict(X_test)\n",
    "predict = np.argmax(predict, axis=1)\n",
    "y_test1 = np.argmax(y_test, axis=1)\n",
    "calculateMetrics(\"Propose CNN + LSTM\", predict, y_test1)"
   ]
  },
  {
   "cell_type": "code",
   "execution_count": 14,
   "metadata": {},
   "outputs": [],
   "source": [
    "val_acc = (accuracy_score(predict, y_test1))\n",
    "val_prec = precision_score(predict, y_test1,average='weighted')\n",
    "val_rec = recall_score(predict, y_test1,average='weighted')\n",
    "val_f1 = f1_score(predict, y_test1,average='weighted')\n",
    "\n",
    "storeResults('Propose CNN + LSTM',val_acc,val_prec,val_rec,val_f1)"
   ]
  },
  {
   "cell_type": "markdown",
   "metadata": {},
   "source": [
    "# Extension CNN + LSTM + Bidirectional LSTM"
   ]
  },
  {
   "cell_type": "code",
   "execution_count": 15,
   "metadata": {},
   "outputs": [
    {
     "name": "stdout",
     "output_type": "stream",
     "text": [
      "WARNING:tensorflow:Layer lstm_1 will not use cuDNN kernels since it doesn't meet the criteria. It will use a generic GPU kernel as fallback when running on GPU.\n",
      "WARNING:tensorflow:Layer lstm_1 will not use cuDNN kernels since it doesn't meet the criteria. It will use a generic GPU kernel as fallback when running on GPU.\n",
      "WARNING:tensorflow:Layer lstm_1 will not use cuDNN kernels since it doesn't meet the criteria. It will use a generic GPU kernel as fallback when running on GPU.\n",
      "WARNING:tensorflow:Layer lstm_2 will not use cuDNN kernels since it doesn't meet the criteria. It will use a generic GPU kernel as fallback when running on GPU.\n",
      "WARNING:tensorflow:Layer lstm_2 will not use cuDNN kernels since it doesn't meet the criteria. It will use a generic GPU kernel as fallback when running on GPU.\n",
      "WARNING:tensorflow:Layer lstm_2 will not use cuDNN kernels since it doesn't meet the criteria. It will use a generic GPU kernel as fallback when running on GPU.\n",
      "\n",
      "Extension CNN + LSTM + Bidirectional LSTM Accuracy  : 99.86282578875172\n",
      "Extension CNN + LSTM + Bidirectional LSTM Precision   : 99.84848484848486\n",
      "Extension CNN + LSTM + Bidirectional LSTM Recall      : 99.87421383647798\n",
      "Extension CNN + LSTM + Bidirectional LSTM FMeasure    : 99.86105788345799\n"
     ]
    },
    {
     "data": {
      "image/png": "[encoded data removed]",
      "text/plain": [
       "<Figure size 360x360 with 2 Axes>"
      ]
     },
     "metadata": {
      "needs_background": "light"
     },
     "output_type": "display_data"
    }
   ],
   "source": [
    "#now define extension model by combining CNN + LSTM + Bidirectional LSTM as this bi-lstm will optimized features from \n",
    "#both forward and backward direction so it will have more optimzied features and accuracy will be better\n",
    "extension_model = Sequential()\n",
    "#defining CNN layer\n",
    "extension_model.add(Conv1D(filters=32, kernel_size = 6, activation = 'relu', input_shape = (X_train.shape[1], X_train.shape[2])))\n",
    "extension_model.add(Conv1D(filters=16, kernel_size = 2, activation = 'relu'))\n",
    "#adding maxpool layer\n",
    "extension_model.add(MaxPooling1D(pool_size = 1))\n",
    "extension_model.add(Flatten())\n",
    "extension_model.add(RepeatVector(2))\n",
    "#adding bidirectional + LSTM to CNN layer\n",
    "extension_model.add(Bidirectional(LSTM(32, activation = 'relu')))\n",
    "#defining output layer\n",
    "extension_model.add(Dense(units = 100, activation = 'softmax'))\n",
    "extension_model.add(Dense(units = y_train.shape[1], activation = 'softmax'))\n",
    "#compile and train the model\n",
    "extension_model.compile(optimizer = 'adam', loss = 'categorical_crossentropy', metrics = ['accuracy'])\n",
    "if os.path.exists(\"model/extension_weights.hdf5\") == False:\n",
    "    model_check_point = ModelCheckpoint(filepath='model/extension_weights.hdf5', verbose = 1, save_best_only = True)\n",
    "    hist = extension_model.fit(X_train, y_train, batch_size = 8, epochs = 10, validation_data=(X_test, y_test), callbacks=[model_check_point], verbose=1)\n",
    "    f = open('model/extension_history.pckl', 'wb')\n",
    "    pickle.dump(hist.history, f)\n",
    "    f.close()    \n",
    "else:\n",
    "    extension_model = load_model(\"model/extension_weights.hdf5\")\n",
    "#perform prediction on test data using bidirectional LSTM on test data   \n",
    "predict = extension_model.predict(X_test)\n",
    "predict = np.argmax(predict, axis=1)\n",
    "y_test1 = np.argmax(y_test, axis=1)\n",
    "calculateMetrics(\"Extension CNN + LSTM + Bidirectional LSTM\", predict, y_test1)"
   ]
  },
  {
   "cell_type": "code",
   "execution_count": 16,
   "metadata": {},
   "outputs": [],
   "source": [
    "val_acc = (accuracy_score(predict, y_test1))\n",
    "val_prec = precision_score(predict, y_test1,average='weighted')\n",
    "val_rec = recall_score(predict, y_test1,average='weighted')\n",
    "val_f1 = f1_score(predict, y_test1,average='weighted')\n",
    "\n",
    "storeResults('Extension CNN + LSTM + Bidirectional LSTM',val_acc,val_prec,val_rec,val_f1)"
   ]
  },
  {
   "cell_type": "markdown",
   "metadata": {},
   "source": [
    "# Voting Classifier"
   ]
  },
  {
   "cell_type": "code",
   "execution_count": 36,
   "metadata": {},
   "outputs": [
    {
     "name": "stdout",
     "output_type": "stream",
     "text": [
      "\n"
     ]
    }
   ],
   "source": [
    "X_train, X_test, y_train, y_test = train_test_split(X1, Y1, test_size=0.2) #split dataset into train and test\n",
    "print()"
   ]
  },
  {
   "cell_type": "code",
   "execution_count": 41,
   "metadata": {},
   "outputs": [],
   "source": [
    "from sklearn.ensemble import BaggingClassifier, RandomForestClassifier, VotingClassifier\n",
    "from sklearn.tree import DecisionTreeClassifier\n",
    "\n",
    "clf1 = BaggingClassifier(RandomForestClassifier(),n_estimators=10, random_state=0)\n",
    "clf2 = DecisionTreeClassifier(random_state=10)\n",
    "\n",
    "eclf1 = VotingClassifier(estimators=[('bagging', clf1), ('dt', clf2)], voting='soft')\n",
    "eclf1.fit(X_train, y_train)\n",
    "y_pred = eclf1.predict(X_test)\n",
    "\n",
    "vot_acc = accuracy_score(y_pred, y_test)\n",
    "vot_prec = precision_score(y_pred, y_test,average='weighted')\n",
    "vot_rec = recall_score(y_pred, y_test,average='weighted')\n",
    "vot_f1 = f1_score(y_pred, y_test,average='weighted')"
   ]
  },
  {
   "cell_type": "code",
   "execution_count": 53,
   "metadata": {},
   "outputs": [
    {
     "name": "stdout",
     "output_type": "stream",
     "text": [
      "\n",
      "Extension Voting Classifier Accuracy  : 100.0\n",
      "Extension Voting Classifier Precision   : 100.0\n",
      "Extension Voting Classifier Recall      : 100.0\n",
      "Extension Voting Classifier FMeasure    : 100.0\n"
     ]
    },
    {
     "data": {
      "image/png": "[encoded data removed]",
      "text/plain": [
       "<Figure size 360x360 with 2 Axes>"
      ]
     },
     "metadata": {
      "needs_background": "light"
     },
     "output_type": "display_data"
    }
   ],
   "source": [
    "calculateMetrics(\"Extension Voting Classifier\", y_pred, y_test)"
   ]
  },
  {
   "cell_type": "code",
   "execution_count": 40,
   "metadata": {},
   "outputs": [],
   "source": [
    "storeResults('Voting Classifier',vot_acc,vot_prec,vot_rec,vot_f1)"
   ]
  },
  {
   "cell_type": "markdown",
   "metadata": {},
   "source": [
    "# Comparison"
   ]
  },
  {
   "cell_type": "code",
   "execution_count": 43,
   "metadata": {},
   "outputs": [],
   "source": [
    "#creating dataframe\n",
    "import pandas as pd\n",
    "import numpy as np\n",
    "result = pd.DataFrame({ 'ML Model' : ML_Model,\n",
    "                        'Accuracy' : acc,\n",
    "                        'f1_score' : f1,\n",
    "                        'Recall'   : rec,\n",
    "                        'Precision': prec,\n",
    "                                                \n",
    "                      })"
   ]
  },
  {
   "cell_type": "code",
   "execution_count": 44,
   "metadata": {},
   "outputs": [
    {
     "data": {
      "text/html": [
       "<div>\n",
       "<style scoped>\n",
       "    .dataframe tbody tr th:only-of-type {\n",
       "        vertical-align: middle;\n",
       "    }\n",
       "\n",
       "    .dataframe tbody tr th {\n",
       "        vertical-align: top;\n",
       "    }\n",
       "\n",
       "    .dataframe thead th {\n",
       "        text-align: right;\n",
       "    }\n",
       "</style>\n",
       "<table border=\"1\" class=\"dataframe\">\n",
       "  <thead>\n",
       "    <tr style=\"text-align: right;\">\n",
       "      <th></th>\n",
       "      <th>ML Model</th>\n",
       "      <th>Accuracy</th>\n",
       "      <th>f1_score</th>\n",
       "      <th>Recall</th>\n",
       "      <th>Precision</th>\n",
       "    </tr>\n",
       "  </thead>\n",
       "  <tbody>\n",
       "    <tr>\n",
       "      <th>0</th>\n",
       "      <td>CNN</td>\n",
       "      <td>0.978</td>\n",
       "      <td>0.978</td>\n",
       "      <td>0.978</td>\n",
       "      <td>0.978</td>\n",
       "    </tr>\n",
       "    <tr>\n",
       "      <th>1</th>\n",
       "      <td>Propose CNN + LSTM</td>\n",
       "      <td>0.979</td>\n",
       "      <td>0.979</td>\n",
       "      <td>0.979</td>\n",
       "      <td>0.981</td>\n",
       "    </tr>\n",
       "    <tr>\n",
       "      <th>2</th>\n",
       "      <td>Extension CNN + LSTM + Bidirectional LSTM</td>\n",
       "      <td>0.999</td>\n",
       "      <td>0.999</td>\n",
       "      <td>0.999</td>\n",
       "      <td>0.999</td>\n",
       "    </tr>\n",
       "    <tr>\n",
       "      <th>3</th>\n",
       "      <td>Voting Classifier</td>\n",
       "      <td>1.000</td>\n",
       "      <td>1.000</td>\n",
       "      <td>1.000</td>\n",
       "      <td>1.000</td>\n",
       "    </tr>\n",
       "  </tbody>\n",
       "</table>\n",
       "</div>"
      ],
      "text/plain": [
       "                                    ML Model  Accuracy  f1_score  Recall  \\\n",
       "0                                        CNN     0.978     0.978   0.978   \n",
       "1                         Propose CNN + LSTM     0.979     0.979   0.979   \n",
       "2  Extension CNN + LSTM + Bidirectional LSTM     0.999     0.999   0.999   \n",
       "3                          Voting Classifier     1.000     1.000   1.000   \n",
       "\n",
       "   Precision  \n",
       "0      0.978  \n",
       "1      0.981  \n",
       "2      0.999  \n",
       "3      1.000  "
      ]
     },
     "execution_count": 44,
     "metadata": {},
     "output_type": "execute_result"
    }
   ],
   "source": [
    "result"
   ]
  },
  {
   "cell_type": "markdown",
   "metadata": {},
   "source": [
    "# Classifier"
   ]
  },
  {
   "cell_type": "code",
   "execution_count": 45,
   "metadata": {},
   "outputs": [],
   "source": [
    "classifier = ML_Model\n",
    "y_pos = np.arange(len(classifier))"
   ]
  },
  {
   "cell_type": "markdown",
   "metadata": {},
   "source": [
    "# Accuracy"
   ]
  },
  {
   "cell_type": "code",
   "execution_count": 46,
   "metadata": {},
   "outputs": [
    {
     "data": {
      "image/png": "[encoded data removed]",
      "text/plain": [
       "<Figure size 432x288 with 1 Axes>"
      ]
     },
     "metadata": {
      "needs_background": "light"
     },
     "output_type": "display_data"
    }
   ],
   "source": [
    "import matplotlib.pyplot as plt2\n",
    "plt2.barh(y_pos, acc, align='center', alpha=0.5,color='blue')\n",
    "plt2.yticks(y_pos, classifier)\n",
    "plt2.xlabel('Accuracy Score')\n",
    "plt2.title('Classification Performance')\n",
    "plt2.show()"
   ]
  },
  {
   "cell_type": "markdown",
   "metadata": {},
   "source": [
    "# Preicison"
   ]
  },
  {
   "cell_type": "code",
   "execution_count": 47,
   "metadata": {},
   "outputs": [
    {
     "data": {
      "image/png": "[encoded data removed]",
      "text/plain": [
       "<Figure size 432x288 with 1 Axes>"
      ]
     },
     "metadata": {
      "needs_background": "light"
     },
     "output_type": "display_data"
    }
   ],
   "source": [
    "plt2.barh(y_pos, prec, align='center', alpha=0.5,color='red')\n",
    "plt2.yticks(y_pos, classifier)\n",
    "plt2.xlabel('Precision Score')\n",
    "plt2.title('Classification Performance')\n",
    "plt2.show()"
   ]
  },
  {
   "cell_type": "markdown",
   "metadata": {},
   "source": [
    "# Recall"
   ]
  },
  {
   "cell_type": "code",
   "execution_count": 48,
   "metadata": {},
   "outputs": [
    {
     "data": {
      "image/png": "[encoded data removed]",
      "text/plain": [
       "<Figure size 432x288 with 1 Axes>"
      ]
     },
     "metadata": {
      "needs_background": "light"
     },
     "output_type": "display_data"
    }
   ],
   "source": [
    "plt2.barh(y_pos, rec, align='center', alpha=0.5,color='yellow')\n",
    "plt2.yticks(y_pos, classifier)\n",
    "plt2.xlabel('Recall Score')\n",
    "plt2.title('Classification Performance')\n",
    "plt2.show()"
   ]
  },
  {
   "cell_type": "markdown",
   "metadata": {},
   "source": [
    "# F1 Score"
   ]
  },
  {
   "cell_type": "code",
   "execution_count": 49,
   "metadata": {},
   "outputs": [
    {
     "data": {
      "image/png": "[encoded data removed]",
      "text/plain": [
       "<Figure size 432x288 with 1 Axes>"
      ]
     },
     "metadata": {
      "needs_background": "light"
     },
     "output_type": "display_data"
    }
   ],
   "source": [
    "plt2.barh(y_pos, f1, align='center', alpha=0.5,color='pink')\n",
    "plt2.yticks(y_pos, classifier)\n",
    "plt2.xlabel('F1 Score')\n",
    "plt2.title('Classification Performance')\n",
    "plt2.show()"
   ]
  },
  {
   "cell_type": "code",
   "execution_count": 50,
   "metadata": {},
   "outputs": [
    {
     "data": {
      "text/plain": [
       "['model.sav']"
      ]
     },
     "execution_count": 50,
     "metadata": {},
     "output_type": "execute_result"
    }
   ],
   "source": [
    "import joblib\n",
    "filename = 'model.sav'\n",
    "joblib.dump(eclf1, filename)"
   ]
  },
  {
   "cell_type": "code",
   "execution_count": null,
   "metadata": {},
   "outputs": [],
   "source": []
  }
 ],
 "metadata": {
  "kernelspec": {
   "display_name": "Python 3",
   "language": "python",
   "name": "python3"
  },
  "language_info": {
   "codemirror_mode": {
    "name": "ipython",
    "version": 3
   },
   "file_extension": ".py",
   "mimetype": "text/x-python",
   "name": "python",
   "nbconvert_exporter": "python",
   "pygments_lexer": "ipython3",
   "version": "3.7.4"
  }
 },
 "nbformat": 4,
 "nbformat_minor": 5
}
